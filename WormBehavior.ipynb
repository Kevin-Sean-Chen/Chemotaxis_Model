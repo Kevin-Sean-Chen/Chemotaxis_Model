{
 "cells": [
  {
   "cell_type": "code",
   "execution_count": 1,
   "metadata": {},
   "outputs": [],
   "source": [
    "import sys\n",
    "import numpy as np\n",
    "import matplotlib.pyplot as plt\n",
    "import time\n",
    "\n",
    "% matplotlib inline"
   ]
  },
  {
   "cell_type": "code",
   "execution_count": 5,
   "metadata": {},
   "outputs": [],
   "source": [
    "#parameters\n",
    "dt = 0.6  #seconds\n",
    "v_m = 0.12  #mm/s\n",
    "v_s = 0.01  #std of speed\n",
    "th_m = 0  #mean curving is zero\n",
    "th_s = 32.3  #degrees/mm\n",
    "th_cor = 12  #12 seconds helf-time"
   ]
  },
  {
   "cell_type": "code",
   "execution_count": 6,
   "metadata": {},
   "outputs": [],
   "source": [
    "# initialize space-time\n",
    "\n",
    "T = 10000\n",
    "time = np.arange(0,T*dt,dt)\n",
    "xs = np.zeros(time.shape)\n",
    "ys = np.zeros(time.shape)  #2D location\n",
    "ths = np.zeros(time.shape)  #agle with 1,0\n"
   ]
  },
  {
   "cell_type": "code",
   "execution_count": 72,
   "metadata": {},
   "outputs": [],
   "source": [
    "def autocorr(x):\n",
    "    result = np.correlate(x, x, 'full')\n",
    "    result = result[int(result.size/2):]\n",
    "    return result/result[0]"
   ]
  },
  {
   "cell_type": "code",
   "execution_count": 75,
   "metadata": {},
   "outputs": [
    {
     "data": {
      "text/plain": [
       "Text(0,0.5,'autocorr')"
      ]
     },
     "execution_count": 75,
     "metadata": {},
     "output_type": "execute_result"
    },
    {
     "data": {
      "image/png": "[encoded data removed]",
      "text/plain": [
       "<Figure size 432x288 with 1 Axes>"
      ]
     },
     "metadata": {
      "needs_background": "light"
     },
     "output_type": "display_data"
    }
   ],
   "source": [
    "#plt.plot(np.arange(0,len(autocorr(ths))*dt,dt),autocorr(ths))\n",
    "plt.plot(autocorr(ths)[0:100])\n",
    "plt.xlabel('lag')\n",
    "plt.ylabel('autocorr')"
   ]
  },
  {
   "cell_type": "code",
   "execution_count": 61,
   "metadata": {},
   "outputs": [],
   "source": [
    "#without turning (OU-like tragectories)\n",
    "for t in range(1,len(time)):\n",
    "    vv = v_m + v_s*np.random.randn()\n",
    "    xs[t] = xs[t-1] + vv*np.sin(ths[t]*np.pi/180) *dt\n",
    "    ys[t] = ys[t-1] + vv*np.cos(ths[t]*np.pi/180) *dt\n",
    "    ths[t] = ths[t-1] + ( - ths[t-1]/th_cor + th_m + th_s*(vv*dt)*np.random.randn()) *dt  #OU process?"
   ]
  },
  {
   "cell_type": "code",
   "execution_count": 76,
   "metadata": {},
   "outputs": [
    {
     "data": {
      "text/plain": [
       "20.777623492085834"
      ]
     },
     "execution_count": 76,
     "metadata": {},
     "output_type": "execute_result"
    }
   ],
   "source": [
    "np.var(ths)"
   ]
  },
  {
   "cell_type": "code",
   "execution_count": null,
   "metadata": {},
   "outputs": [],
   "source": [
    "#with turning (switching-state)"
   ]
  }
 ],
 "metadata": {
  "kernelspec": {
   "display_name": "Python 3",
   "language": "python",
   "name": "python3"
  },
  "language_info": {
   "codemirror_mode": {
    "name": "ipython",
    "version": 3
   },
   "file_extension": ".py",
   "mimetype": "text/x-python",
   "name": "python",
   "nbconvert_exporter": "python",
   "pygments_lexer": "ipython3",
   "version": "3.7.0"
  }
 },
 "nbformat": 4,
 "nbformat_minor": 2
}
