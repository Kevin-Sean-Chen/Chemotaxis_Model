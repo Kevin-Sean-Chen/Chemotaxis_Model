{
 "cells": [
  {
   "cell_type": "code",
   "execution_count": 1,
   "metadata": {},
   "outputs": [],
   "source": [
    "import numpy as np\n",
    "import scipy as sp\n",
    "import seaborn as sns\n",
    "sns.set_style(\"white\")\n",
    "sns.set_context(\"talk\")\n",
    "\n",
    "import matplotlib.pyplot as plt\n",
    "%matplotlib inline"
   ]
  },
  {
   "cell_type": "code",
   "execution_count": 2,
   "metadata": {},
   "outputs": [],
   "source": [
    "from copy import copy\n",
    "from scipy.special import k0\n",
    "from scipy.stats import entropy as entropy_\n",
    "import matplotlib.gridspec as gridspec"
   ]
  },
  {
   "cell_type": "markdown",
   "metadata": {},
   "source": [
    "## Infotaxis\n",
    "\n",
    "Modified from: https://github.com/rkp8000/infotaxis/blob/master/infotaxis.py"
   ]
  },
  {
   "cell_type": "code",
   "execution_count": 3,
   "metadata": {},
   "outputs": [],
   "source": [
    "###Entropy calculation\n",
    "def entropy(log_p_src):\n",
    "    \"\"\"\n",
    "    Wrapper around scipy.stats entropy function that takes in a 2D\n",
    "    log probability distribution.\n",
    "    :param log_p_src: 2D array of log probabilities\n",
    "    \"\"\"\n",
    "    # convert to non-log probability distribution\n",
    "    p_src = np.exp(log_p_src)\n",
    "    # make sure it normalizes to 1\n",
    "    p_src /= p_src.sum()\n",
    "    # calculate entropy\n",
    "    return entropy_(p_src.flatten())"
   ]
  },
  {
   "cell_type": "code",
   "execution_count": 4,
   "metadata": {},
   "outputs": [],
   "source": [
    "###Bessel function (for hit rate)\n",
    "def log_k0(x):\n",
    "    \"\"\"\n",
    "    Logarithm of modified bessel function of the second kind of order 0.\n",
    "    Infinite values may still be returned if argument is too close to\n",
    "    zero.\n",
    "    \"\"\"\n",
    "    y = k0(x)\n",
    "    # if array\n",
    "    try:\n",
    "        logy = np.zeros(x.shape, dtype=float)\n",
    "        # attempt to calculate bessel function for all elements in x\n",
    "        logy[y!=0] = np.log(y[y!=0])\n",
    "        # for zero-valued elements use approximation\n",
    "        logy[y==0] = -x[y==0] - np.log(x[y==0]) + np.log(np.sqrt(np.pi/2))\n",
    "        return logy\n",
    "    except:\n",
    "        if y == 0:\n",
    "            return -x - np.log(x) + np.log(np.sqrt(np.pi/2))\n",
    "        else:\n",
    "            return np.log(y)"
   ]
  },
  {
   "cell_type": "code",
   "execution_count": 5,
   "metadata": {},
   "outputs": [],
   "source": [
    "###Source prior\n",
    "def build_log_src_prior(prior_type, xs, ys):\n",
    "    \"\"\"\n",
    "    Construct a log-probability distribution from a prior type specifier.\n",
    "    Units are probability per area.\n",
    "    \"\"\"\n",
    "    shape = (len(xs), len(ys))\n",
    "    dx = np.mean(np.diff(xs))\n",
    "    dy = np.mean(np.diff(ys))\n",
    "    if prior_type == 'uniform':\n",
    "        log_p_unnormalized = np.ones(shape)\n",
    "        norm_factor = np.sum(np.exp(log_p_unnormalized) * dx * dy)\n",
    "        log_norm_factor = np.log(norm_factor)\n",
    "        log_src_prior = log_p_unnormalized - log_norm_factor\n",
    "    else:\n",
    "        raise NotImplementedError\n",
    "    return log_src_prior"
   ]
  },
  {
   "cell_type": "code",
   "execution_count": 6,
   "metadata": {},
   "outputs": [],
   "source": [
    "###Grid world action\n",
    "def get_moves(pos, xs, ys, step):\n",
    "    \"\"\"\n",
    "    Get the 5 possible moves from a position given a constant speed.\n",
    "    (left, right, forward, back, stay still)\n",
    "    :param pos:\n",
    "    :param xs:\n",
    "    :param ys:\n",
    "    :param step:\n",
    "    :return:\n",
    "    \"\"\"\n",
    "    moves = []\n",
    "    for dx, dy in [(-step, 0), (step, 0), (0, -step), (0, step), (0, 0)]:\n",
    "        x = pos[0] + dx\n",
    "        y = pos[1] + dy\n",
    "        moves.append((x, y))\n",
    "    return moves"
   ]
  },
  {
   "cell_type": "code",
   "execution_count": 7,
   "metadata": {},
   "outputs": [],
   "source": [
    "###Found r_soucre in a radius\n",
    "def get_p_src_found(pos, xs, ys, log_p_src, radius):\n",
    "    \"\"\"\n",
    "    Return the probability that a position is within \"radius\"\n",
    "    of the source, given the source probability distribution.\n",
    "    :param pos: position to calc prob that you are close to source\n",
    "    :param xs: x-coords over which source prob distribution is defined\n",
    "    :param ys: y-coords over which source prob distribution is defined\n",
    "    :param log_p_src: log probability distribution over source position\n",
    "    :param radius: distance you must be to source to detect it\n",
    "    :return: probability\n",
    "    \"\"\"\n",
    "    # get mask containing only points within radius of pos\n",
    "    xs_, ys_ = np.meshgrid(xs, ys, indexing='ij')\n",
    "    dxs = pos[0] - xs_\n",
    "    dys = pos[1] - ys_\n",
    "\n",
    "    mask = (dxs**2 + dys**2 < radius**2)\n",
    "\n",
    "    # sum probabilities contained in mask\n",
    "    p_src = np.exp(log_p_src)\n",
    "    p_src /= p_src.sum()\n",
    "    p_src_found = p_src[mask].sum()\n",
    "\n",
    "    return p_src_found"
   ]
  },
  {
   "cell_type": "code",
   "execution_count": 8,
   "metadata": {},
   "outputs": [],
   "source": [
    "###Environment\n",
    "def get_length_constant(w, d, tau):\n",
    "    \"\"\"\n",
    "    Return the turbulence length constant: sqrt( (d*tau) / (1 + (tau * w**2)/(4d) ) )\n",
    "    :param d: diffusivity coefficient (m^2/s)\n",
    "    :param w: wind speed (m/s)\n",
    "    :param tau: particle lifetime (s)\n",
    "    :return: length constant (m)\n",
    "    \"\"\"\n",
    "    num = d * tau\n",
    "    denom = 1 + (tau * w**2) / (4 * d)\n",
    "    return np.sqrt(num / denom)"
   ]
  },
  {
   "cell_type": "code",
   "execution_count": 9,
   "metadata": {},
   "outputs": [],
   "source": [
    "###R(y-x)\n",
    "def get_hit_rate(xs_src, ys_src, pos, w, d, r, a, tau, resolution=0.000001):\n",
    "    \"\"\"\n",
    "    Calculate hit rate at specified position for grid of possible source locations.\n",
    "    This is given by Eq. 7 in the infotaxis paper supplementary materials:\n",
    "        http://www.nature.com/nature/journal/v445/n7126/extref/nature05464-s1.pdf\n",
    "    :param xs_src: 1-D array of x-positions of source (m)\n",
    "    :param ys_src: 1-D array of y-positions of source (m)\n",
    "    :param pos: position where hit rate is calculated (m)\n",
    "    :param w: wind speed (m/s)\n",
    "    :param d: diffusivity coefficient (m^2/s)\n",
    "    :param r: source emission rate (Hz)\n",
    "    :param a: searcher size (m)\n",
    "    :param tau: particle lifetime (s)\n",
    "    :return: grid of hit rates, with one value per source location\n",
    "    \"\"\"\n",
    "    # convert xs_src & ys_src\n",
    "    xs_src_, ys_src_ = np.meshgrid(xs_src, ys_src, indexing='ij')\n",
    "    dx = pos[0] - xs_src_\n",
    "    dy = pos[1] - ys_src_\n",
    "    # round dx's and dy's less than resolution down to zero\n",
    "    dx[np.abs(dx) < resolution] = 0\n",
    "    dy[np.abs(dy) < resolution] = 0\n",
    "    # calc lambda\n",
    "    lam = get_length_constant(w=w, d=d, tau=tau)\n",
    "    # calc scale factor\n",
    "    scale_factor = r / np.log(lam/a)\n",
    "    # calc exponential term\n",
    "    exp_term = np.exp((w/(2*d))*dx)\n",
    "    # calc bessel term\n",
    "    abs_dist = (dx**2 + dy**2) ** 0.5\n",
    "    bessel_term = np.exp(log_k0(abs_dist / lam))\n",
    "    # calc final hit rate\n",
    "    hit_rate = scale_factor * exp_term * bessel_term\n",
    "    return hit_rate"
   ]
  },
  {
   "cell_type": "code",
   "execution_count": 10,
   "metadata": {},
   "outputs": [],
   "source": [
    "###\n",
    "def get_p_sample(pos, xs, ys, dt, h, w, d, r, a, tau, log_p_src):\n",
    "    \"\"\"\n",
    "    Get the probability of sampling h at position pos.\n",
    "    :param pos: position\n",
    "    :param xs: x-coords over which source prob distribution is defined\n",
    "    :param ys: y-coords over which source prob distribution is defined\n",
    "    :param dt: sampling interval\n",
    "    :param h: sample value\n",
    "    :param w: wind speed (m/s)\n",
    "    :param d: diffusivity coefficient (m^2/s)\n",
    "    :param r: source emission rate (particles per s)\n",
    "    :param log_p_src: log probability distribution over source position\n",
    "    :return: probability\n",
    "    \"\"\"\n",
    "    # poisson probability of no hit given mean hit rate\n",
    "    hit_rate = get_hit_rate(xs, ys, pos, w, d, r, a, tau)\n",
    "    p_no_hits = np.exp(-dt * hit_rate)\n",
    "    if h == 0:\n",
    "        p_samples = p_no_hits\n",
    "    elif h == 1:\n",
    "        p_samples = 1 - p_no_hits\n",
    "    else:\n",
    "        raise Exception('h must be either 0 (no hit) or 1 (hit)')\n",
    "    # get source distribution\n",
    "    p_src = np.exp(log_p_src)\n",
    "    p_src /= p_src.sum()\n",
    "    # make sure p_src being 0 wins over p_sample being nan/inf\n",
    "    p_samples[p_src == 0] = 0\n",
    "    # average over all source positions\n",
    "    p_sample = np.sum(p_samples * p_src)\n",
    "    return p_sample"
   ]
  },
  {
   "cell_type": "code",
   "execution_count": 11,
   "metadata": {},
   "outputs": [],
   "source": [
    "###New P(y)\n",
    "def update_log_p_src(pos, xs, ys, dt, h, w, d, r, a, tau, src_radius, log_p_src):\n",
    "    \"\"\"\n",
    "    Update the log posterior over the src given sample h at position pos.\n",
    "    :param pos: position\n",
    "    :param xs: x-coords over which src prob is defined\n",
    "    :param ys: y-coords over which src prob is defined\n",
    "    :param h: sample value (0 for no hit, 1 for hit)\n",
    "    :param w: wind speed (m/s)\n",
    "    :param d: diffusivity coefficient (m^2/s)\n",
    "    :param r: src emission rate (Hz)\n",
    "    :param a: searcher size (m)\n",
    "    :param tau: particle lifetime (s)\n",
    "    :param src_radius: how close agent must be to src to detect it\n",
    "    :param log_p_src: previous estimate of log src posterior\n",
    "    :return: new (unnormalized) log src posterior\n",
    "    \"\"\"\n",
    "    # first get mean number of hits at pos given different src positions\n",
    "    mean_hits = dt * get_hit_rate(\n",
    "        xs_src=xs, ys_src=ys, pos=pos, w=w, d=d, r=r, a=a, tau=tau)\n",
    "    # calculate log-likelihood (prob of h at pos given src position [Poisson])\n",
    "    if h == 0:\n",
    "        log_like = -mean_hits\n",
    "    else:\n",
    "        log_like = np.log(1 - np.exp(-mean_hits))\n",
    "    # compute the new log src posterior\n",
    "    log_p_src = log_like + log_p_src\n",
    "    # set log prob to -inf everywhere within src_radius of pos\n",
    "    xs_, ys_ = np.meshgrid(xs, ys, indexing='ij')\n",
    "    mask = ((pos[0] - xs_)**2 + (pos[1] - ys_)**2 < src_radius**2)\n",
    "    log_p_src[mask] = -np.inf\n",
    "    # if we've exhausted the search space start over\n",
    "    if np.all(np.isinf(log_p_src)):\n",
    "        log_p_src = np.ones(log_p_src.shape)\n",
    "    return log_p_src"
   ]
  },
  {
   "cell_type": "code",
   "execution_count": 96,
   "metadata": {},
   "outputs": [],
   "source": [
    "###variational infotaxis\n",
    "kBT = 1  #temperature in free-energy formula\n",
    "local_lamb = 0.05  #local domain for the work function"
   ]
  },
  {
   "cell_type": "code",
   "execution_count": 66,
   "metadata": {},
   "outputs": [
    {
     "name": "stderr",
     "output_type": "stream",
     "text": [
      "/Users/Macintosh/anaconda3/lib/python3.7/site-packages/ipykernel_launcher.py:13: RuntimeWarning: invalid value encountered in log\n",
      "  del sys.path[0]\n"
     ]
    }
   ],
   "source": [
    "# log_p_src = update_log_p_src(\n",
    "#             pos=[1,1], xs=xs, ys=ys, dt=dt, h=1,\n",
    "#             w=w, d=d, r=r, a=a, tau=tau, src_radius=src_radius, log_p_src=log_p_src)\n",
    "log_p_src = build_log_src_prior('uniform', xs=xs, ys=ys)"
   ]
  },
  {
   "cell_type": "code",
   "execution_count": 87,
   "metadata": {},
   "outputs": [
    {
     "data": {
      "text/plain": [
       "array([0.  , 0.02, 0.04, 0.06, 0.08, 0.1 , 0.12, 0.14, 0.16, 0.18, 0.2 ,\n",
       "       0.22, 0.24, 0.26, 0.28, 0.3 , 0.32, 0.34, 0.36, 0.38, 0.4 , 0.42,\n",
       "       0.44, 0.46, 0.48, 0.5 , 0.52, 0.54, 0.56, 0.58, 0.6 , 0.62, 0.64,\n",
       "       0.66, 0.68, 0.7 , 0.72, 0.74, 0.76, 0.78, 0.8 , 0.82, 0.84, 0.86,\n",
       "       0.88, 0.9 , 0.92, 0.94, 0.96, 0.98, 1.  , 1.02, 1.04, 1.06, 1.08,\n",
       "       1.1 , 1.12, 1.14, 1.16, 1.18, 1.2 , 1.22, 1.24, 1.26, 1.28, 1.3 ,\n",
       "       1.32, 1.34, 1.36, 1.38, 1.4 , 1.42, 1.44, 1.46, 1.48, 1.5 , 1.52,\n",
       "       1.54, 1.56, 1.58, 1.6 , 1.62, 1.64, 1.66, 1.68, 1.7 , 1.72, 1.74,\n",
       "       1.76, 1.78, 1.8 , 1.82, 1.84, 1.86, 1.88, 1.9 , 1.92, 1.94, 1.96,\n",
       "       1.98, 2.  ])"
      ]
     },
     "execution_count": 87,
     "metadata": {},
     "output_type": "execute_result"
    }
   ],
   "source": [
    "xbs_ = plume.x_bounds\n",
    "ybs_ = plume.y_bounds\n",
    "xs = np.linspace(xbs_[0], xbs_[1], grid[0])\n",
    "ys = np.linspace(ybs_[0], ybs_[1], grid[1])\n",
    "xs"
   ]
  },
  {
   "cell_type": "code",
   "execution_count": 103,
   "metadata": {},
   "outputs": [
    {
     "data": {
      "text/plain": [
       "(51,)"
      ]
     },
     "execution_count": 103,
     "metadata": {},
     "output_type": "execute_result"
    }
   ],
   "source": [
    "local_posX = np.where(np.abs(1-xs)<=local_lamb)[0]\n",
    "ys.shape"
   ]
  },
  {
   "cell_type": "code",
   "execution_count": 107,
   "metadata": {},
   "outputs": [],
   "source": [
    "def simulate(\n",
    "        plume, grid, start_pos, speed, dt, max_dur,\n",
    "        th, src_radius, w, d, r, a=0.003, tau=100, return_log_p_srcs=False):\n",
    "    \"\"\"\n",
    "    Run the infotaxis simulation.\n",
    "    :param plume: plume object\n",
    "    :param grid: number of (x, y) points in grid spanning plume environment\n",
    "        to run infotaxis agent along\n",
    "    :param start_pos: insect starting position (m)\n",
    "    :param speed: insect movement speed (m/s)\n",
    "    :param dt: simulation time step (s)\n",
    "    :param max_dur: maximum simulation duration (s)\n",
    "    :param th: threshold for hit detection\n",
    "    :param src_radius: how close agent must be to source to detect it (m)\n",
    "    :param w: wind speed (m/s)\n",
    "    :param d: diffusivity coefficient (m^2/s)\n",
    "    :param r: source emission rate (Hz)\n",
    "    :param a: searcher size (m)\n",
    "    :param tau: particle lifetime (s)\n",
    "    :param return_log_p_srcs: whether to return a list of the source posteriors\n",
    "        calculated along the trajectory\n",
    "    :return: trajectory, hit array, src_found flag, [list of source posteriors]\n",
    "    \"\"\"\n",
    "    if get_length_constant(w=w, d=d, tau=tau) <= a:\n",
    "        raise Exception('lambda must be greater than a')\n",
    "\n",
    "    # compute some useful auxiliary variables\n",
    "    xbs_ = plume.x_bounds\n",
    "    ybs_ = plume.y_bounds\n",
    "    xs = np.linspace(xbs_[0], xbs_[1], grid[0])\n",
    "    ys = np.linspace(ybs_[0], ybs_[1], grid[1])\n",
    "\n",
    "    sample_domain = [0, 1]\n",
    "\n",
    "    # initialize (log of) source distribution and position\n",
    "    log_p_src = build_log_src_prior('uniform', xs=xs, ys=ys)\n",
    "\n",
    "    # loop over time steps\n",
    "\n",
    "    pos = start_pos\n",
    "    traj = [copy(pos)]  # position sequence\n",
    "    hs = []  # hit sequence\n",
    "    ss = []  # entropy sequence\n",
    "    log_p_srcs = []  # log src posterior sequence\n",
    "\n",
    "    for t_ctr, t in enumerate(np.arange(0, max_dur, dt)):\n",
    "\n",
    "        # check if source has been found\n",
    "        if np.linalg.norm(np.array(pos) - plume.src_pos) < src_radius:\n",
    "            src_found = True\n",
    "            break\n",
    "\n",
    "        # sample hit or miss from plume\n",
    "        c = plume.sample(pos, t)\n",
    "        h = int(c >= th)\n",
    "        hs.append(h)\n",
    "\n",
    "        # update source posterior\n",
    "        log_p_src = update_log_p_src(\n",
    "            pos=pos, xs=xs, ys=ys, dt=dt, h=h,\n",
    "            w=w, d=d, r=r, a=a, tau=tau, src_radius=src_radius, log_p_src=log_p_src)\n",
    "        local_posX = np.where(np.abs(pos[1]-xs)<=local_lamb)[0]\n",
    "        local_posY = np.where(np.abs(pos[0]-ys)<=local_lamb)[0]\n",
    "        Work = np.sum([np.exp(log_p_src[xx,yy]) for xx in local_posX for yy in local_posY])\n",
    "        s = kBT*entropy(log_p_src) + Work   ##### expected free-energy\n",
    "\n",
    "        ss.append(s)\n",
    "        if return_log_p_srcs: log_p_srcs.append(log_p_src)\n",
    "\n",
    "        # pick next move so as to maximally decrease expected entropy\n",
    "        moves = get_moves(pos, xs, ys, step=speed*dt)\n",
    "        delta_s_expecteds = []\n",
    "\n",
    "        # get entropy decrease given src found\n",
    "        delta_s_src_found = -s\n",
    "\n",
    "        # estimate expected decrease in p_source entropy for each possible move\n",
    "        # (each \"move\" is a new (x, y) position in SI units)\n",
    "        for move in moves:\n",
    "\n",
    "            # set entropy increase to inf if move is out of bounds\n",
    "            if not round(xbs_[0], 6) <= round(move[0], 6) <= round(xbs_[1], 6):\n",
    "                delta_s_expecteds.append(np.inf)\n",
    "                continue\n",
    "            elif not round(ybs_[0], 6) <= round(move[1], 6) <= round(ybs_[1], 6):\n",
    "                delta_s_expecteds.append(np.inf)\n",
    "                continue\n",
    "\n",
    "            # get probability of finding source\n",
    "            p_src_found = get_p_src_found(\n",
    "                pos=move, xs=xs, ys=ys, log_p_src=log_p_src, radius=src_radius)\n",
    "            p_src_not_found = 1 - p_src_found\n",
    "\n",
    "            # loop over probability and expected entropy decrease for each sample\n",
    "            p_samples = np.nan * np.zeros(len(sample_domain))\n",
    "            delta_s_given_samples = np.nan * np.zeros(len(sample_domain))\n",
    "\n",
    "            for ctr, h in enumerate(sample_domain):\n",
    "\n",
    "                # probability of sampling h at pos\n",
    "                p_sample = get_p_sample(\n",
    "                    pos=move, xs=xs, ys=ys, dt=dt, h=h,\n",
    "                    w=w, d=d, r=r, a=a, tau=tau, log_p_src=log_p_src)\n",
    "\n",
    "                # posterior distribution from sampling h at pos\n",
    "                log_p_src_ = update_log_p_src(\n",
    "                    pos=move, xs=xs, ys=ys, dt=dt, src_radius=src_radius,\n",
    "                    h=h, w=w, d=d, r=r, a=a, tau=tau, log_p_src=log_p_src)\n",
    "\n",
    "                # decrease in entropy for this move/sample\n",
    "                #Work_ = np.sum(np.exp(log_p_src_[local_posX,local_posY]))\n",
    "                Work_ = np.sum([np.exp(log_p_src_[xx,yy]) for xx in local_posX for yy in local_posY])\n",
    "                s_ = kBT*entropy(log_p_src_) + Work_\n",
    "                #P_src = np.exp(log_p_src) #get back P(r|T) for work turm #####\n",
    "                delta_s_given_sample = s_ - s\n",
    "\n",
    "                p_samples[ctr] = p_sample\n",
    "                delta_s_given_samples[ctr] = delta_s_given_sample #+ kBT*p_sample #add as Free-energy #####\n",
    "\n",
    "            # get expected entropy decrease given source not found\n",
    "            delta_s_src_not_found = p_samples.dot(delta_s_given_samples)\n",
    "\n",
    "            # compute total expected entropy decrease\n",
    "            delta_s_expected = (p_src_found * delta_s_src_found) + \\\n",
    "                (p_src_not_found * delta_s_src_not_found)\n",
    "\n",
    "            delta_s_expecteds.append(delta_s_expected)\n",
    "\n",
    "       # choose move that decreases p_source entropy the most  ##### infotaxis step\n",
    "        pos = moves[np.argmin(delta_s_expecteds)]\n",
    "        traj.append(copy(pos))\n",
    "\n",
    "    else:\n",
    "        src_found = False\n",
    "\n",
    "    # convert results to arrays\n",
    "    traj = np.array(traj)\n",
    "    hs = np.array(hs)\n",
    "\n",
    "    # remove last position so that traj and hs are same length\n",
    "    traj = traj[:-1]\n",
    "\n",
    "    # return pos sequence, hit sequence, src_found flag, and optionally log_p_src\n",
    "    if not return_log_p_srcs:\n",
    "        return traj, hs, src_found\n",
    "    else:\n",
    "        return traj, hs, src_found, log_p_srcs"
   ]
  },
  {
   "cell_type": "code",
   "execution_count": 108,
   "metadata": {},
   "outputs": [],
   "source": [
    "class IdealInfotaxisPlume(object):\n",
    "\n",
    "        def __init__(self, src_pos, w, d, r, a, tau, dt):\n",
    "            self.src_pos = np.array(src_pos)\n",
    "            self.w = w\n",
    "            self.d = d\n",
    "            self.r = r\n",
    "            self.tau = tau\n",
    "\n",
    "            self.a = a\n",
    "            self.dt = dt\n",
    "\n",
    "            self.x_bounds = (0, 2)\n",
    "            self.y_bounds = (0, 1)\n",
    "\n",
    "        def sample(self, pos, t):\n",
    "            xs_src = np.array([self.src_pos[0]])\n",
    "            ys_src = np.array([self.src_pos[1]])\n",
    "\n",
    "            hit_rate = get_hit_rate(\n",
    "                xs_src=xs_src, ys_src=ys_src, pos=pos,\n",
    "                w=self.w, d=self.d, r=self.r, a=self.a, tau=self.tau)[0, 0]\n",
    "\n",
    "            mean_hits = hit_rate * self.dt\n",
    "\n",
    "            sample = int(np.random.poisson(mean_hits) > 0)\n",
    "\n",
    "            return sample\n",
    "\n",
    "        def get_profile(self, grid):\n",
    "\n",
    "            xs = np.linspace(*self.x_bounds, num=grid[0])\n",
    "            ys = np.linspace(*self.y_bounds, num=grid[1])\n",
    "\n",
    "            xs_src = np.array([self.src_pos[0]])\n",
    "            ys_src = np.array([self.src_pos[1]])\n",
    "\n",
    "            conc = np.nan * np.zeros((len(xs), len(ys)))\n",
    "            for x_ctr, x in enumerate(xs):\n",
    "                for y_ctr, y in enumerate(ys):\n",
    "                    hit_rate = get_hit_rate(\n",
    "                        xs_src=xs_src, ys_src=ys_src, pos=(x, y),\n",
    "                        w=self.w, d=self.d, r=self.r, a=self.a, tau=self.tau)[0, 0]\n",
    "\n",
    "                    conc[x_ctr, y_ctr] = hit_rate\n",
    "\n",
    "            dx = np.mean(np.diff(xs))\n",
    "            dy = np.mean(np.diff(ys))\n",
    "\n",
    "            x_lim = [xs[0] - dx/2, xs[-1] + dx/2]\n",
    "            y_lim = [ys[0] - dy/2, ys[-1] + dy/2]\n",
    "\n",
    "            extent = x_lim + y_lim\n",
    "\n",
    "            return conc, extent"
   ]
  },
  {
   "cell_type": "code",
   "execution_count": 109,
   "metadata": {},
   "outputs": [],
   "source": [
    "###Demo\n",
    "seed=0\n",
    "grid=(101, 51)\n",
    "src_pos=(.1, .5)\n",
    "start_pos=(1.9, .9)\n",
    "dt=.1\n",
    "speed=.2\n",
    "max_dur=40\n",
    "th=.5\n",
    "src_radius=.02\n",
    "w=.5\n",
    "d=.05\n",
    "r=5\n",
    "a=.003\n",
    "tau=100\n",
    "\n",
    "#plume environment\n",
    "plume = IdealInfotaxisPlume(\n",
    "        src_pos=src_pos, w=w, d=d, r=r, a=a, tau=tau, dt=dt)\n",
    "\n",
    "#run infotaxis simulation\n",
    "traj, hs, src_found, log_p_srcs = simulate(\n",
    "    plume=plume, grid=grid, start_pos=start_pos, speed=speed, dt=dt,\n",
    "    max_dur=max_dur, th=th, src_radius=src_radius, w=w, d=d, r=r, a=a, tau=tau,\n",
    "    return_log_p_srcs=True)"
   ]
  },
  {
   "cell_type": "code",
   "execution_count": 110,
   "metadata": {},
   "outputs": [
    {
     "data": {
      "text/plain": [
       "Text(0.5, 1.0, 'full trajectory with plume profile')"
      ]
     },
     "execution_count": 110,
     "metadata": {},
     "output_type": "execute_result"
    },
    {
     "name": "stderr",
     "output_type": "stream",
     "text": [
      "/Users/Macintosh/anaconda3/lib/python3.7/site-packages/matplotlib/figure.py:2369: UserWarning: This figure includes Axes that are not compatible with tight_layout, so results might be incorrect.\n",
      "  warnings.warn(\"This figure includes Axes that are not compatible \"\n"
     ]
    },
    {
     "data": {
      "image/png": "[encoded data removed]",
      "text/plain": [
       "<Figure size 1080x1152 with 1 Axes>"
      ]
     },
     "metadata": {
      "needs_background": "light"
     },
     "output_type": "display_data"
    }
   ],
   "source": [
    "# plot trajectory\n",
    "gs = gridspec.GridSpec(5, 2)\n",
    "fig, axs = plt.figure(figsize=(15, 16), tight_layout=True), []\n",
    "\n",
    "# plot full trajectory overlaid on plume profile\n",
    "conc, extent = plume.get_profile(grid)\n",
    "ax_main = fig.add_subplot(gs[:2, :])\n",
    "ax_main.imshow(conc.T, origin='lower', extent=extent, cmap='hot', zorder=0)\n",
    "\n",
    "# plot trajectory and hits\n",
    "ax_main.plot(traj[:, 0], traj[:, 1], lw=2, color='w', zorder=1)\n",
    "ax_main.scatter(\n",
    "    traj[hs > 0, 0], traj[hs > 0, 1], marker='D', s=50, c='c', zorder=2)\n",
    "# mark starting position\n",
    "ax_main.scatter(*start_pos, s=30, c='b', zorder=2)\n",
    "# mark source location\n",
    "ax_main.scatter(*plume.src_pos, marker='*', s=100, c='k', zorder=2)\n",
    "\n",
    "# set figure axis limits\n",
    "ax_main.set_xlim(extent[:2])\n",
    "ax_main.set_ylim(extent[2:])\n",
    "\n",
    "# make figure labels\n",
    "ax_main.set_xlabel('x (m)')\n",
    "ax_main.set_ylabel('y (m)')\n",
    "ax_main.set_title('full trajectory with plume profile')"
   ]
  },
  {
   "cell_type": "code",
   "execution_count": 16,
   "metadata": {},
   "outputs": [
    {
     "data": {
      "text/plain": [
       "<matplotlib.image.AxesImage at 0x1a211c6198>"
      ]
     },
     "execution_count": 16,
     "metadata": {},
     "output_type": "execute_result"
    },
    {
     "data": {
      "image/png": "[encoded data removed]",
      "text/plain": [
       "<Figure size 432x288 with 1 Axes>"
      ]
     },
     "metadata": {
      "needs_background": "light"
     },
     "output_type": "display_data"
    }
   ],
   "source": [
    "plt.imshow((conc.T),aspect='auto')\n",
    "plume_env = (conc.T)\n",
    "plt.imshow(plume_env,aspect='auto')"
   ]
  },
  {
   "cell_type": "code",
   "execution_count": 17,
   "metadata": {},
   "outputs": [
    {
     "name": "stderr",
     "output_type": "stream",
     "text": [
      "/Users/Macintosh/anaconda3/lib/python3.7/site-packages/ipykernel_launcher.py:67: RuntimeWarning: invalid value encountered in double_scalars\n",
      "/Users/Macintosh/anaconda3/lib/python3.7/site-packages/ipykernel_launcher.py:77: RuntimeWarning: invalid value encountered in sin\n",
      "/Users/Macintosh/anaconda3/lib/python3.7/site-packages/ipykernel_launcher.py:77: RuntimeWarning: invalid value encountered in cos\n"
     ]
    },
    {
     "data": {
      "text/plain": [
       "[<matplotlib.lines.Line2D at 0x1a218d0a58>]"
      ]
     },
     "execution_count": 17,
     "metadata": {},
     "output_type": "execute_result"
    },
    {
     "data": {
      "image/png": "[encoded data removed]",
      "text/plain": [
       "<Figure size 432x288 with 1 Axes>"
      ]
     },
     "metadata": {
      "needs_background": "light"
     },
     "output_type": "display_data"
    }
   ],
   "source": [
    "import math\n",
    "#Hybrid Gaussian process for angle time series\n",
    "def d_theta(alpha, dc_perp, K, w, dC):\n",
    "    '''\n",
    "    Return change in theta angle for each step\n",
    "    Input with alpha for weighting, dc for orthogonal concentration difference, and K covariance in weathervaning\n",
    "    W as the weighting/kernel on concentration in the signoidal function for tumbling rate \n",
    "    '''\n",
    "    wv = alpha*dc_perp + K*np.random.randn()  #weathervaning strategy\n",
    "    #P_event = 0.023/(0.4 + np.exp(40*dC/dt)) + 0.003  #sigmoidal function with parameters w\n",
    "    P_event = 5*0.023/(1 + np.exp(40*dC/dt))  #less parameter version\n",
    "    if np.random.rand() < P_event:\n",
    "        beta = 1\n",
    "    else:\n",
    "        beta = 0\n",
    "    rt = beta*(np.random.rand()*360-180) #(2*np.pi)  #run-and-tumble strategy\n",
    "    #rt = beta*(np.random.randn()*K + 100)  #alternative Gaussian mixture\n",
    "    dth = wv + rt\n",
    "    if dth > 180:\n",
    "        dth = dth-360  #bounded by angle measurements\n",
    "    if dth < -180:\n",
    "        dth = dth+360\n",
    "    return dth\n",
    "\n",
    "#concentration gradient in space\n",
    "def plumef(C0,x,y):\n",
    "    \"\"\"\n",
    "    an grid-world approximation...\n",
    "    \"\"\"\n",
    "    x = max(x,0)  #positive\n",
    "    y = max(y,0)\n",
    "    x = min(x,plume_env.shape[0]-1)\n",
    "    y = min(y,plume_env.shape[1]-1)\n",
    "    concentration = C0*plume_env[int(np.round(x)),int(np.round(y))]  #gird checking\n",
    "    return concentration\n",
    "\n",
    "#measure for concentration difference for weathervane\n",
    "def dc_measure(dxy,xx,yy):\n",
    "    perp_dir = np.array([-dxy[1], dxy[0]])\n",
    "    perp_dir = perp_dir/np.linalg.norm(perp_dir)\n",
    "    perp_dC = plumef(C0, xx+perp_dir[0], yy+perp_dir[1]) - plumef(C0, xx-perp_dir[0], yy-perp_dir[1])\n",
    "    return perp_dC\n",
    "\n",
    "\n",
    "C0 = 10\n",
    "#chemotaxis strategy parameter\n",
    "alpha = 20  #strength of OU forcing\n",
    "K = 5  #covariance of weathervane\n",
    "w = 0  #logistic parameter (default for now)\n",
    "T = 3000\n",
    "dt = 0.6  #seconds\n",
    "v_m = 0.12*1  #mm/s\n",
    "v_s = 0.01  #std of speed\n",
    "time = np.arange(0,T*dt,dt)\n",
    "xs = np.zeros(time.shape)\n",
    "ys = np.zeros(time.shape)  #2D location\n",
    "xs[0] = np.random.rand()+20\n",
    "ys[0] = np.random.rand()+80\n",
    "ths = np.zeros(time.shape)  #agle with 1,0\n",
    "ths[0] = np.random.rand()\n",
    "dxy = np.random.rand(2)\n",
    "\n",
    "### with turning (Brownian-like tragectories)\n",
    "for t in range(1,len(time)):\n",
    "   \n",
    "   #concentration = gradient(C0,xs[t-1],ys[t-1])\n",
    "    dC = plumef(C0,xs[t-1],ys[t-1]) - plumef(C0, xs[t-2],ys[t-2])\n",
    "    dc_perp = dc_measure(dxy,xs[t-1],ys[t-1])      \n",
    "    dth = d_theta(alpha, -dc_perp, K, 0, dC)\n",
    "    ths[t] = ths[t-1] + dth*dt\n",
    "   \n",
    "    e1 = np.array([1,0])\n",
    "    vec = np.array([xs[t-1],ys[t-1]])\n",
    "    theta = math.acos(np.clip(np.dot(vec,e1)/np.linalg.norm(vec)/np.linalg.norm(e1), -1, 1)) #current orienation relative to (1,0)\n",
    "\n",
    "    vv = v_m + v_s*np.random.randn()\n",
    "    dd = np.array([vv*np.sin(ths[t]*np.pi/180), vv*np.cos(ths[t]*np.pi/180)])  #displacement\n",
    "    c, s = np.cos(theta), np.sin(theta)\n",
    "    R = np.array(((c,s), (-s, c)))  #rotation matrix, changing coordinates\n",
    "    dxy = np.dot(R,dd)\n",
    "    \n",
    "    xs[t] = xs[t-1] + dxy[0]*dt\n",
    "    ys[t] = ys[t-1] + dxy[1]*dt\n",
    "    if np.isnan(xs[t])==1 or np.isnan(ys[t])==1 :\n",
    "        xs[t] = xs[t-1]\n",
    "        ys[t] = ys[t-1]\n",
    "        dxy=np.array([0.5,0.5])\n",
    "\n",
    "#plt.plot(ths)\n",
    "# plt.figure()\n",
    "# plt.plot(xs,ys)\n",
    "plt.figure()\n",
    "# x = np.arange(np.min(xs),np.max(xs),1)\n",
    "# xx_grad = C0/(4*np.pi*d*D*duT)*np.exp(-(x-dis2targ)**2/(400*D*duT*50))\n",
    "# plt.imshow(np.expand_dims(xx_grad,axis=1).T,extent=[np.min(xs),np.max(xs),np.min(ys),np.max(ys)])\n",
    "plt.imshow(plume_env,aspect='auto')\n",
    "plt.plot(ys,xs,'white')"
   ]
  },
  {
   "cell_type": "code",
   "execution_count": 159,
   "metadata": {},
   "outputs": [
    {
     "data": {
      "text/plain": [
       "array([0., 0.])"
      ]
     },
     "execution_count": 159,
     "metadata": {},
     "output_type": "execute_result"
    }
   ],
   "source": [
    "dxy"
   ]
  }
 ],
 "metadata": {
  "kernelspec": {
   "display_name": "Python 3",
   "language": "python",
   "name": "python3"
  },
  "language_info": {
   "codemirror_mode": {
    "name": "ipython",
    "version": 3
   },
   "file_extension": ".py",
   "mimetype": "text/x-python",
   "name": "python",
   "nbconvert_exporter": "python",
   "pygments_lexer": "ipython3",
   "version": "3.7.3"
  }
 },
 "nbformat": 4,
 "nbformat_minor": 2
}
